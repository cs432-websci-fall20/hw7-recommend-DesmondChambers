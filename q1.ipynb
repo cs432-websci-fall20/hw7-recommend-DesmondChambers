{
 "cells": [
  {
   "cell_type": "code",
   "execution_count": 5,
   "metadata": {},
   "outputs": [],
   "source": [
    "import csv \n",
    "import pandas as pd"
   ]
  },
  {
   "cell_type": "code",
   "execution_count": 5,
   "metadata": {},
   "outputs": [
    {
     "name": "stdout",
     "output_type": "stream",
     "text": [
      "['id', 'age', 'sex', 'occupation', 'zip']\n"
     ]
    }
   ],
   "source": [
    "#this code segment is use to make \n",
    "#sure the right information is returned\n",
    "#from the file\n",
    "\n",
    "from csv import DictReader\n",
    "# open file in read mode\n",
    "with open('u.user', 'r') as read_obj:\n",
    "    # pass the file object to DictReader() to get the DictReader object\n",
    "    csv_dict_reader = DictReader(read_obj, delimiter='|')\n",
    "    # get column names from a csv file\n",
    "    column_names = csv_dict_reader.fieldnames\n",
    "    print(column_names)"
   ]
  },
  {
   "cell_type": "code",
   "execution_count": 55,
   "metadata": {},
   "outputs": [
    {
     "name": "stdout",
     "output_type": "stream",
     "text": [
      "['userid', 'itemid', 'ratings', 'timestamp']\n"
     ]
    }
   ],
   "source": [
    "#this code segment is use to make \n",
    "#sure the right information is returned\n",
    "#from the file\n",
    "\n",
    "from csv import DictReader\n",
    "# open file in read mode\n",
    "with open('u.data', 'r') as read_obj:\n",
    "    # pass the file object to DictReader() to get the DictReader object\n",
    "    csv_dict_reader = DictReader(read_obj, delimiter='\\t')\n",
    "    # get column names from a csv file\n",
    "    column_names = csv_dict_reader.fieldnames\n",
    "    print(column_names)"
   ]
  },
  {
   "cell_type": "code",
   "execution_count": 56,
   "metadata": {},
   "outputs": [
    {
     "name": "stdout",
     "output_type": "stream",
     "text": [
      "['movie id ', ' movie title ', ' release date ', ' video release date ', ' IMDb URL ', ' unknown ', ' Action ', ' Adventure ', ' Animation ', \"Children's \", ' Comedy ', ' Crime ', ' Documentary ', ' Drama ', ' Fantasy ', ' Film-Noir ', ' Horror ', ' Musical ', ' Mystery ', ' Romance ', ' Sci-Fi ', ' Thriller ', ' War ', ' Western ', '']\n"
     ]
    }
   ],
   "source": [
    "#this code segment is use to make \n",
    "#sure the right information is returned\n",
    "#from the file\n",
    "\n",
    "from csv import DictReader\n",
    "# open file in read mode\n",
    "with open('u.item', 'r') as read_obj:\n",
    "    # pass the file object to DictReader() to get the DictReader object\n",
    "    csv_dict_reader = DictReader(read_obj, delimiter='|')\n",
    "    # get column names from a csv file\n",
    "    column_names = csv_dict_reader.fieldnames\n",
    "    print(column_names)"
   ]
  },
  {
   "cell_type": "code",
   "execution_count": 54,
   "metadata": {},
   "outputs": [
    {
     "name": "stdout",
     "output_type": "stream",
     "text": [
      "{'id': '102', 'age': '38', 'sex': 'M', 'occupation': 'programmer', 'zip': '30220'}\n",
      "Mulholland Falls (1996)\n",
      "Four Weddings and a Funeral (1994)\n",
      "Great Dictator, The (1940)\n",
      "Murder at 1600 (1997)\n",
      "Sword in the Stone, The (1963)\n",
      "Omen, The (1976)\n",
      "Air Force One (1997)\n",
      "Dave (1993)\n",
      "Fantasia (1940)\n",
      "Twister (1996)\n",
      "Titanic (1997)\n",
      "Interview with the Vampire (1994)\n",
      "Star Trek: First Contact (1996)\n",
      "While You Were Sleeping (1995)\n",
      "Rising Sun (1993)\n",
      "L.A. Confidential (1997)\n",
      "Much Ado About Nothing (1993)\n",
      "Stargate (1994)\n",
      "Independence Day (ID4) (1996)\n",
      "Cinderella (1950)\n",
      "Perfect World, A (1993)\n",
      "Under Siege (1992)\n",
      "Princess Bride, The (1987)\n",
      "Executive Decision (1996)\n",
      "G.I. Jane (1997)\n",
      "Grosse Pointe Blank (1997)\n",
      "Aliens (1986)\n",
      "Batman (1989)\n",
      "Jackal, The (1997)\n",
      "Sneakers (1992)\n",
      "Spawn (1997)\n",
      "Birds, The (1963)\n",
      "Being There (1979)\n",
      "Face/Off (1997)\n",
      "Eraser (1996)\n",
      "Abyss, The (1989)\n",
      "Nosferatu (Nosferatu, eine Symphonie des Grauens) (1922)\n",
      "Mrs. Doubtfire (1993)\n",
      "Die Hard (1988)\n",
      "Saint, The (1997)\n",
      "True Lies (1994)\n",
      "English Patient, The (1996)\n",
      "Victor/Victoria (1982)\n",
      "Copycat (1995)\n",
      "Man Who Would Be King, The (1975)\n",
      "Bananas (1971)\n",
      "Terminator 2: Judgment Day (1991)\n",
      "Escape from New York (1981)\n",
      "Aristocats, The (1970)\n",
      "Fallen (1998)\n",
      "Coneheads (1993)\n",
      "Audrey Rose (1977)\n",
      "Don Juan DeMarco (1995)\n",
      "Bride of Frankenstein (1935)\n",
      "Pulp Fiction (1994)\n",
      "Seventh Seal, The (Sjunde inseglet, Det) (1957)\n",
      "GoodFellas (1990)\n",
      "Psycho (1960)\n",
      "Monty Python and the Holy Grail (1974)\n",
      "Devil's Own, The (1997)\n",
      "Indiana Jones and the Last Crusade (1989)\n",
      "Nightmare Before Christmas, The (1993)\n",
      "Kiss the Girls (1997)\n",
      "Sting, The (1973)\n",
      "Mars Attacks! (1996)\n",
      "M*A*S*H (1970)\n",
      "Godfather: Part II, The (1974)\n",
      "Cape Fear (1991)\n",
      "Mask, The (1994)\n",
      "Heat (1995)\n",
      "Stand by Me (1986)\n",
      "Sleepless in Seattle (1993)\n",
      "Down by Law (1986)\n",
      "Shining, The (1980)\n",
      "Broken Arrow (1996)\n",
      "Maverick (1994)\n",
      "Mighty Aphrodite (1995)\n",
      "Highlander (1986)\n",
      "First Wives Club, The (1996)\n",
      "Hunt for Red October, The (1990)\n",
      "Rock, The (1996)\n",
      "Tomorrow Never Dies (1997)\n",
      "Professional, The (1994)\n",
      "Star Trek III: The Search for Spock (1984)\n",
      "Big Blue, The (Grand bleu, Le) (1988)\n",
      "Seven (Se7en) (1995)\n",
      "Jaws (1975)\n",
      "Butch Cassidy and the Sundance Kid (1969)\n",
      "Last of the Mohicans, The (1992)\n",
      "Lawrence of Arabia (1962)\n",
      "Peacemaker, The (1997)\n",
      "Bullets Over Broadway (1994)\n",
      "In & Out (1997)\n",
      "Toy Story (1995)\n",
      "As Good As It Gets (1997)\n",
      "Good Will Hunting (1997)\n",
      "Monty Python's Life of Brian (1979)\n",
      "Empire Strikes Back, The (1980)\n",
      "{'id': '319', 'age': '38', 'sex': 'M', 'occupation': 'programmer', 'zip': '22030'}\n",
      "Boogie Nights (1997)\n",
      "Full Monty, The (1997)\n",
      "Amistad (1997)\n",
      "Jackal, The (1997)\n",
      "Tomorrow Never Dies (1997)\n",
      "Jackie Brown (1997)\n",
      "Air Bud (1997)\n",
      "I Know What You Did Last Summer (1997)\n",
      "Spawn (1997)\n",
      "Fallen (1998)\n"
     ]
    }
   ],
   "source": [
    "#this code segment is use to compared\n",
    "#all 3 file and find a person similar to myself.\n",
    "\n",
    "from csv import DictReader\n",
    "from collections import Counter\n",
    "# iterate over each line as a ordered dictionary and print only few column by column name\n",
    "with open('u.user', 'r') as read_obj:\n",
    "    csv_dict_reader = DictReader(read_obj, delimiter='|')\n",
    "    for row in csv_dict_reader:\n",
    "        if row['age'] == '38' and row['sex'] == 'M' and row['occupation'] == 'programmer':\n",
    "            with open('u.data', 'r') as read_obj1:\n",
    "                csv_dict_reader2 = DictReader(read_obj1, delimiter='\\t')\n",
    "                print(row)\n",
    "                for row2 in csv_dict_reader2:\n",
    "                    if row2['userid'] == row['id'] and row2['ratings'] == '3':\n",
    "                        with open('u.item', 'r') as read_obj2:\n",
    "                            csv_dict_reader3 = DictReader(read_obj2, delimiter='|')\n",
    "                            for row3 in csv_dict_reader3:\n",
    "                                if row2['itemid'] == row3['movie id ']:\n",
    "                                    print(row3[' movie title '])\n",
    "                                    #print(row3)"
   ]
  },
  {
   "cell_type": "code",
   "execution_count": null,
   "metadata": {},
   "outputs": [],
   "source": []
  }
 ],
 "metadata": {
  "kernelspec": {
   "display_name": "Python 3",
   "language": "python",
   "name": "python3"
  },
  "language_info": {
   "codemirror_mode": {
    "name": "ipython",
    "version": 3
   },
   "file_extension": ".py",
   "mimetype": "text/x-python",
   "name": "python",
   "nbconvert_exporter": "python",
   "pygments_lexer": "ipython3",
   "version": "3.8.5"
  }
 },
 "nbformat": 4,
 "nbformat_minor": 4
}
